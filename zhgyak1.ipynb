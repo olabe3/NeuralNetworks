{
  "nbformat": 4,
  "nbformat_minor": 0,
  "metadata": {
    "colab": {
      "name": "Untitled0.ipynb",
      "provenance": [],
      "authorship_tag": "ABX9TyNmbo38HRh+bcLH7viNiVwN",
      "include_colab_link": true
    },
    "kernelspec": {
      "name": "python3",
      "display_name": "Python 3"
    }
  },
  "cells": [
    {
      "cell_type": "markdown",
      "metadata": {
        "id": "view-in-github",
        "colab_type": "text"
      },
      "source": [
        "<a href=\"https://colab.research.google.com/github/olabe3/NeuralNetworks/blob/master/zhgyak1.ipynb\" target=\"_parent\"><img src=\"https://colab.research.google.com/assets/colab-badge.svg\" alt=\"Open In Colab\"/></a>"
      ]
    },
    {
      "cell_type": "code",
      "metadata": {
        "id": "1or_uezk84DL",
        "colab_type": "code",
        "colab": {}
      },
      "source": [
        "class Plant:\n",
        "  def __init__(self,color,height):\n",
        "    self.color = color\n",
        "    self.height = height\n",
        "  def kiprint(self):\n",
        "    print (self.color)\n",
        "    print (self.height)"
      ],
      "execution_count": null,
      "outputs": []
    },
    {
      "cell_type": "code",
      "metadata": {
        "id": "MOIYnpAAmdjx",
        "colab_type": "code",
        "colab": {
          "base_uri": "https://localhost:8080/",
          "height": 50
        },
        "outputId": "6291da8d-be61-4be2-b45e-2a34128214c7"
      },
      "source": [
        "rózsa = Plant(\"red\",40)\n",
        "plant.kiprint()"
      ],
      "execution_count": null,
      "outputs": [
        {
          "output_type": "stream",
          "text": [
            "red\n",
            "45\n"
          ],
          "name": "stdout"
        }
      ]
    },
    {
      "cell_type": "code",
      "metadata": {
        "id": "H0AH3IyStrHI",
        "colab_type": "code",
        "colab": {}
      },
      "source": [
        "class Flower(Plant):\n",
        "  def is_tree(self):\n",
        "    if self.height > 200:\n",
        "      print(\"tree\")"
      ],
      "execution_count": null,
      "outputs": []
    },
    {
      "cell_type": "code",
      "metadata": {
        "id": "K6D9FFt1uUzv",
        "colab_type": "code",
        "colab": {
          "base_uri": "https://localhost:8080/",
          "height": 67
        },
        "outputId": "952a3efb-7305-4170-b10b-ea45760ec93b"
      },
      "source": [
        "almafa = Flower(\"green\", 250)\n",
        "almafa.kiprint()\n",
        "almafa.is_tree()"
      ],
      "execution_count": null,
      "outputs": [
        {
          "output_type": "stream",
          "text": [
            "green\n",
            "250\n",
            "tree\n"
          ],
          "name": "stdout"
        }
      ]
    }
  ]
}