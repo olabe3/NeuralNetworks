{
  "nbformat": 4,
  "nbformat_minor": 0,
  "metadata": {
    "colab": {
      "name": "Practice1.ipynb",
      "provenance": [],
      "collapsed_sections": [],
      "authorship_tag": "ABX9TyN8tO7w1elW8lhrYgTXI0RR",
      "include_colab_link": true
    },
    "kernelspec": {
      "name": "python3",
      "display_name": "Python 3"
    }
  },
  "cells": [
    {
      "cell_type": "markdown",
      "metadata": {
        "id": "view-in-github",
        "colab_type": "text"
      },
      "source": [
        "<a href=\"https://colab.research.google.com/github/olabe3/NeuralNetworks/blob/master/Practice1.ipynb\" target=\"_parent\"><img src=\"https://colab.research.google.com/assets/colab-badge.svg\" alt=\"Open In Colab\"/></a>"
      ]
    },
    {
      "cell_type": "markdown",
      "metadata": {
        "id": "q6l560OqmrIw",
        "colab_type": "text"
      },
      "source": [
        "Python Bootcmap2"
      ]
    },
    {
      "cell_type": "code",
      "metadata": {
        "id": "4KxbBuxcmphv",
        "colab_type": "code",
        "colab": {}
      },
      "source": [
        "def myFunction():\n",
        "  print(\"myFunction is done!\")"
      ],
      "execution_count": 1,
      "outputs": []
    },
    {
      "cell_type": "code",
      "metadata": {
        "id": "ebVGcSK5m5SJ",
        "colab_type": "code",
        "colab": {
          "base_uri": "https://localhost:8080/",
          "height": 33
        },
        "outputId": "46399c9c-1181-4a42-ea99-e93a79614e37"
      },
      "source": [
        "myFunction()"
      ],
      "execution_count": 2,
      "outputs": [
        {
          "output_type": "stream",
          "text": [
            "myFunction is done!\n"
          ],
          "name": "stdout"
        }
      ]
    },
    {
      "cell_type": "code",
      "metadata": {
        "id": "LKpjwVIXm7bK",
        "colab_type": "code",
        "colab": {}
      },
      "source": [
        "def Fibonacci(n):\n",
        "  if n <= 0:\n",
        "    print(\"Incorrect input!\")\n",
        "  elif n==1:\n",
        "    return 1\n",
        "  elif n==2:\n",
        "    return 1\n",
        "  else:\n",
        "    return Fibonacci(n-1) + Fibonacci(n-2)"
      ],
      "execution_count": 21,
      "outputs": []
    },
    {
      "cell_type": "code",
      "metadata": {
        "id": "2NhoBLe1oXrG",
        "colab_type": "code",
        "colab": {}
      },
      "source": [
        "def factorial(n):\n",
        "  if n==1:\n",
        "    return n\n",
        "  elif n<1:\n",
        "    print(\"NA\")\n",
        "  else:\n",
        "    return n*factorial(n-1)\n",
        "    "
      ],
      "execution_count": 18,
      "outputs": []
    },
    {
      "cell_type": "code",
      "metadata": {
        "id": "PY0z6n1dpkJy",
        "colab_type": "code",
        "colab": {
          "base_uri": "https://localhost:8080/",
          "height": 33
        },
        "outputId": "de3111ce-4c30-4068-a581-4cd74d603a23"
      },
      "source": [
        "print(factorial(5))"
      ],
      "execution_count": 20,
      "outputs": [
        {
          "output_type": "stream",
          "text": [
            "120\n"
          ],
          "name": "stdout"
        }
      ]
    },
    {
      "cell_type": "code",
      "metadata": {
        "id": "Rs8yjE5TpmJr",
        "colab_type": "code",
        "colab": {
          "base_uri": "https://localhost:8080/",
          "height": 33
        },
        "outputId": "a8d1a7bb-0427-4b34-8314-4683799bf081"
      },
      "source": [
        "Fibonacci(7)"
      ],
      "execution_count": 40,
      "outputs": [
        {
          "output_type": "execute_result",
          "data": {
            "text/plain": [
              "13"
            ]
          },
          "metadata": {
            "tags": []
          },
          "execution_count": 40
        }
      ]
    },
    {
      "cell_type": "markdown",
      "metadata": {
        "id": "G3oLD3czqLS_",
        "colab_type": "text"
      },
      "source": [
        "Objects"
      ]
    },
    {
      "cell_type": "code",
      "metadata": {
        "id": "D0z8Z_r2puVe",
        "colab_type": "code",
        "colab": {}
      },
      "source": [
        "class Employee:\n",
        "  def __init__(self):\n",
        "    pass"
      ],
      "execution_count": 41,
      "outputs": []
    },
    {
      "cell_type": "code",
      "metadata": {
        "id": "refoHQXrruF3",
        "colab_type": "code",
        "colab": {}
      },
      "source": [
        "emp1 = Employee()\n",
        "emp1.firstname = \"Bela\"\n",
        "emp1.lastname = \"Varga\"\n",
        "emp1.email = \"varga.bela]gmail.com\"\n"
      ],
      "execution_count": 42,
      "outputs": []
    },
    {
      "cell_type": "code",
      "metadata": {
        "id": "yVXqeZizsA3a",
        "colab_type": "code",
        "colab": {
          "base_uri": "https://localhost:8080/",
          "height": 33
        },
        "outputId": "11ecb29a-d9b9-405a-cccb-8df5a5789503"
      },
      "source": [
        "print(emp1.firstname)"
      ],
      "execution_count": 43,
      "outputs": [
        {
          "output_type": "stream",
          "text": [
            "Bela\n"
          ],
          "name": "stdout"
        }
      ]
    },
    {
      "cell_type": "code",
      "metadata": {
        "id": "2q1ZLZpdsDi-",
        "colab_type": "code",
        "colab": {}
      },
      "source": [
        "class Employee:\n",
        "  def __init__(self,fname,lname,em):\n",
        "    self.firstname = fname\n",
        "    self.lastname = lname\n",
        "    self.email = em\n",
        "    self.work_hours = 0\n",
        "\n",
        "  def doWork(self):\n",
        "    print(\"working...\")\n",
        "    self.work_hours = self.work_hours + 1 "
      ],
      "execution_count": 51,
      "outputs": []
    },
    {
      "cell_type": "code",
      "metadata": {
        "id": "Iq689SVastsb",
        "colab_type": "code",
        "colab": {
          "base_uri": "https://localhost:8080/",
          "height": 84
        },
        "outputId": "3bbb0fb7-e0c3-44b8-a21b-8cd36eac379a"
      },
      "source": [
        "emp2 = Employee(\"Csilla\",\"Kiss\",\"kiss.csilla@gmail.com\")\n",
        "print(emp2.work_hours)\n",
        "emp2.doWork()\n",
        "emp2.doWork()\n",
        "print(emp2.work_hours)"
      ],
      "execution_count": 56,
      "outputs": [
        {
          "output_type": "stream",
          "text": [
            "0\n",
            "working...\n",
            "working...\n",
            "2\n"
          ],
          "name": "stdout"
        }
      ]
    },
    {
      "cell_type": "code",
      "metadata": {
        "id": "8aQNTyuqs8Kw",
        "colab_type": "code",
        "colab": {}
      },
      "source": [
        "class Director(Employee):\n",
        "  def organize_meeting(self,n):\n",
        "    print(\"meeting...\")\n",
        "    self.work_hours = self.work_hours + n + 1"
      ],
      "execution_count": 66,
      "outputs": []
    },
    {
      "cell_type": "code",
      "metadata": {
        "id": "G5K2YavUym6P",
        "colab_type": "code",
        "colab": {
          "base_uri": "https://localhost:8080/",
          "height": 50
        },
        "outputId": "444271fc-5309-4855-86ac-4c3b47498d49"
      },
      "source": [
        "boss = Director(\"Anna\", \"Fehér\", \"f.a@gmail.com\")\n",
        "\n",
        "boss = Director(\"Anna\", \"White\", \"a.w@hotmail.com\")\n",
        "boss.organize_meeting(5)\n",
        "print(boss.work_hours)"
      ],
      "execution_count": 69,
      "outputs": [
        {
          "output_type": "stream",
          "text": [
            "meeting...\n",
            "6\n"
          ],
          "name": "stdout"
        }
      ]
    },
    {
      "cell_type": "markdown",
      "metadata": {
        "id": "XyqRF-YR0GH7",
        "colab_type": "text"
      },
      "source": [
        "Reading files"
      ]
    },
    {
      "cell_type": "code",
      "metadata": {
        "id": "n_Y1PoF5y0ML",
        "colab_type": "code",
        "colab": {}
      },
      "source": [
        "x = []\n",
        "y = []\n",
        "with open(\"dataset.txt\",\"r\") as ifs: # w, a, etc\n",
        "  lines = ifs.readlines()\n",
        "  for line in lines:\n",
        "    x.append(int(line.split(',')[0]))\n",
        "    y.append(int(line.split(',')[1].strip()))"
      ],
      "execution_count": 80,
      "outputs": []
    },
    {
      "cell_type": "code",
      "metadata": {
        "id": "aF76uq9p0qt3",
        "colab_type": "code",
        "colab": {}
      },
      "source": [
        "import matplotlib.pyplot as plt"
      ],
      "execution_count": 73,
      "outputs": []
    },
    {
      "cell_type": "code",
      "metadata": {
        "id": "mXXxyA0h1aK4",
        "colab_type": "code",
        "colab": {
          "base_uri": "https://localhost:8080/",
          "height": 281
        },
        "outputId": "35d6442c-72ad-4ca6-b27e-1fffb3cdbc8a"
      },
      "source": [
        "plt.plot(x,y,\"ro\")"
      ],
      "execution_count": 94,
      "outputs": [
        {
          "output_type": "execute_result",
          "data": {
            "text/plain": [
              "[<matplotlib.lines.Line2D at 0x7fc086bd2630>]"
            ]
          },
          "metadata": {
            "tags": []
          },
          "execution_count": 94
        },
        {
          "output_type": "display_data",
          "data": {
            "image/png": "[encoded data removed]",
            "text/plain": [
              "<Figure size 432x288 with 1 Axes>"
            ]
          },
          "metadata": {
            "tags": [],
            "needs_background": "light"
          }
        }
      ]
    },
    {
      "cell_type": "code",
      "metadata": {
        "id": "fZh9_DuB2vIY",
        "colab_type": "code",
        "colab": {}
      },
      "source": [
        "def Dm(x,y,m,c):\n",
        "  in_sum = 0\n",
        "  n = len(x)\n",
        "  for i in range(n):\n",
        "    in_sum = in_sum + 2*(y[i] - (m*x[i] + c)) * (-x[i])\n",
        "  return 1 / n * in_sum"
      ],
      "execution_count": 96,
      "outputs": []
    },
    {
      "cell_type": "code",
      "metadata": {
        "id": "HWA3Ks054LWG",
        "colab_type": "code",
        "colab": {}
      },
      "source": [
        "def Dc(x,y,m,c):\n",
        "  in_sum = 0\n",
        "  n = len(x)\n",
        "  for i in range(n):\n",
        "    in_sum = in_sum - 2*(y[i] - (m*x[i] + c))\n",
        "  return 1 / n * in_sum"
      ],
      "execution_count": 97,
      "outputs": []
    },
    {
      "cell_type": "code",
      "metadata": {
        "id": "Bd1GCgM34Wau",
        "colab_type": "code",
        "colab": {}
      },
      "source": [
        "iter_num = 10\n",
        "lr = 0.0001\n",
        "\n",
        "m = 0\n",
        "c = 0\n",
        "\n",
        "for i in range(iter_num):\n",
        "  m = m - lr*Dm(x,y,m,c)\n",
        "  c = c - lr*Dc(x,y,m,c)\n"
      ],
      "execution_count": 98,
      "outputs": []
    },
    {
      "cell_type": "code",
      "metadata": {
        "id": "Oyr6R7RT45ZO",
        "colab_type": "code",
        "colab": {}
      },
      "source": [
        "import numpy as np\n",
        "x = np.asarray(x)\n",
        "y = np.asarray(y)"
      ],
      "execution_count": 89,
      "outputs": []
    },
    {
      "cell_type": "code",
      "metadata": {
        "id": "i-cnGtPk5F1E",
        "colab_type": "code",
        "colab": {}
      },
      "source": [
        "yy = m*x + np.ones(len(x))*c"
      ],
      "execution_count": 91,
      "outputs": []
    },
    {
      "cell_type": "code",
      "metadata": {
        "id": "aI_OetI35R5-",
        "colab_type": "code",
        "colab": {
          "base_uri": "https://localhost:8080/",
          "height": 281
        },
        "outputId": "153bfb35-f011-480e-b478-9367792aafba"
      },
      "source": [
        "plt.plot(x,y,\"ro\")\n",
        "plt.plot(x,yy)"
      ],
      "execution_count": 100,
      "outputs": [
        {
          "output_type": "execute_result",
          "data": {
            "text/plain": [
              "[<matplotlib.lines.Line2D at 0x7fc087228630>]"
            ]
          },
          "metadata": {
            "tags": []
          },
          "execution_count": 100
        },
        {
          "output_type": "display_data",
          "data": {
            "image/png": "[encoded data removed]",
            "text/plain": [
              "<Figure size 432x288 with 1 Axes>"
            ]
          },
          "metadata": {
            "tags": [],
            "needs_background": "light"
          }
        }
      ]
    },
    {
      "cell_type": "code",
      "metadata": {
        "id": "uULqtstK5XJp",
        "colab_type": "code",
        "colab": {}
      },
      "source": [
        ""
      ],
      "execution_count": null,
      "outputs": []
    }
  ]
}