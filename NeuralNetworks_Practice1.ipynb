{
  "nbformat": 4,
  "nbformat_minor": 0,
  "metadata": {
    "colab": {
      "name": "NeuralNetworks_Practice1.ipynb",
      "provenance": [],
      "collapsed_sections": [],
      "include_colab_link": true
    },
    "kernelspec": {
      "name": "python3",
      "display_name": "Python 3"
    }
  },
  "cells": [
    {
      "cell_type": "markdown",
      "metadata": {
        "id": "view-in-github",
        "colab_type": "text"
      },
      "source": [
        "<a href=\"https://colab.research.google.com/github/olabe3/NeuralNetworks/blob/master/NeuralNetworks_Practice1.ipynb\" target=\"_parent\"><img src=\"https://colab.research.google.com/assets/colab-badge.svg\" alt=\"Open In Colab\"/></a>"
      ]
    },
    {
      "cell_type": "markdown",
      "metadata": {
        "id": "mWzpPmEu8Ip-",
        "colab_type": "text"
      },
      "source": [
        "# Python Bootcamp 2"
      ]
    },
    {
      "cell_type": "code",
      "metadata": {
        "id": "Dbb534my8AkL",
        "colab_type": "code",
        "colab": {}
      },
      "source": [
        "def myMethod(): # In python every method starts with the def keyword. \n",
        "  print(\"myMethod is done!\")"
      ],
      "execution_count": null,
      "outputs": []
    },
    {
      "cell_type": "code",
      "metadata": {
        "id": "A-owe7ZeVKlG",
        "colab_type": "code",
        "colab": {
          "base_uri": "https://localhost:8080/",
          "height": 34
        },
        "outputId": "56ae828f-e0f6-45ea-b53a-ae45a1d6be51"
      },
      "source": [
        "myMethod()"
      ],
      "execution_count": null,
      "outputs": [
        {
          "output_type": "stream",
          "text": [
            "myMethod is done!\n"
          ],
          "name": "stdout"
        }
      ]
    },
    {
      "cell_type": "code",
      "metadata": {
        "id": "0lBTQzjIVNt4",
        "colab_type": "code",
        "colab": {}
      },
      "source": [
        "def Fibonacci(n):\n",
        "  if n<=0:\n",
        "    print(\"incorrect input\")\n",
        "  # First Fibonacci number is 0:\n",
        "  elif n==1:\n",
        "    return 0\n",
        "  # Second Fibonacci number is 1\n",
        "  elif n==2:\n",
        "    return 1\n",
        "  else:\n",
        "    return Fibonacci(n-2) + Fibonacci(n-1)"
      ],
      "execution_count": null,
      "outputs": []
    },
    {
      "cell_type": "code",
      "metadata": {
        "id": "o3TGUqM1XNN6",
        "colab_type": "code",
        "colab": {
          "base_uri": "https://localhost:8080/",
          "height": 34
        },
        "outputId": "4b226acf-3889-40ce-bb69-7c7eb478408c"
      },
      "source": [
        "# Lets call this for an optional number for example for 9\n",
        "Fibonacci(9)"
      ],
      "execution_count": null,
      "outputs": [
        {
          "output_type": "execute_result",
          "data": {
            "text/plain": [
              "21"
            ]
          },
          "metadata": {
            "tags": []
          },
          "execution_count": 5
        }
      ]
    },
    {
      "cell_type": "markdown",
      "metadata": {
        "id": "tsKPwB7rXkro",
        "colab_type": "text"
      },
      "source": [
        "# Task 1\n"
      ]
    },
    {
      "cell_type": "code",
      "metadata": {
        "id": "GVkF6HPZX_Rv",
        "colab_type": "code",
        "colab": {}
      },
      "source": [
        "def factorial(n):\n",
        "  if n == 1:\n",
        "    return n\n",
        "  elif n < 1:\n",
        "    return (\"NA\")\n",
        "  else:\n",
        "    return n*factorial(n-1)"
      ],
      "execution_count": null,
      "outputs": []
    },
    {
      "cell_type": "code",
      "metadata": {
        "id": "Npk5tU3TYbHX",
        "colab_type": "code",
        "colab": {
          "base_uri": "https://localhost:8080/",
          "height": 34
        },
        "outputId": "1c26abff-6077-4675-f97d-5d24a61d0ab4"
      },
      "source": [
        "factorial(5)"
      ],
      "execution_count": null,
      "outputs": [
        {
          "output_type": "execute_result",
          "data": {
            "text/plain": [
              "120"
            ]
          },
          "metadata": {
            "tags": []
          },
          "execution_count": 14
        }
      ]
    },
    {
      "cell_type": "markdown",
      "metadata": {
        "id": "rlDeTHMpJ7MU",
        "colab_type": "text"
      },
      "source": [
        "# Objects"
      ]
    },
    {
      "cell_type": "code",
      "metadata": {
        "id": "_N1HYDRSSYuZ",
        "colab_type": "code",
        "colab": {}
      },
      "source": [
        "class Employee:\n",
        "  def __init__(self):\n",
        "    print(\"constructor\")"
      ],
      "execution_count": null,
      "outputs": []
    },
    {
      "cell_type": "code",
      "metadata": {
        "id": "D1zq8myLTayN",
        "colab_type": "code",
        "colab": {
          "base_uri": "https://localhost:8080/",
          "height": 36
        },
        "outputId": "cc56a3df-3865-401f-e4f9-ce3804d5a96d"
      },
      "source": [
        "emp1 = Employee()\n",
        "emp1.firstname = \"Bela\"\n",
        "emp1.lastname = \"Varga\"\n",
        "emp1.email = \"varga.bela@gmail.com\""
      ],
      "execution_count": null,
      "outputs": [
        {
          "output_type": "stream",
          "text": [
            "constructor\n"
          ],
          "name": "stdout"
        }
      ]
    },
    {
      "cell_type": "code",
      "metadata": {
        "id": "QEre9T0VUCwV",
        "colab_type": "code",
        "colab": {
          "base_uri": "https://localhost:8080/",
          "height": 36
        },
        "outputId": "06b6557a-543d-4625-9df7-9746f434fa80"
      },
      "source": [
        "print(emp1.firstname)"
      ],
      "execution_count": null,
      "outputs": [
        {
          "output_type": "stream",
          "text": [
            "Bela\n"
          ],
          "name": "stdout"
        }
      ]
    },
    {
      "cell_type": "code",
      "metadata": {
        "id": "EYsfj9C6UH5t",
        "colab_type": "code",
        "colab": {
          "base_uri": "https://localhost:8080/",
          "height": 36
        },
        "outputId": "aadf12b6-5d96-4366-ddef-7482422ae68a"
      },
      "source": [
        "emp2 = Employee()\n",
        "emp2.firstname = \"Éva\"\n",
        "emp2.lastname = \"Nagy\"\n",
        "emp2.email = \"Nagy.Éva@gmail.com\""
      ],
      "execution_count": null,
      "outputs": [
        {
          "output_type": "stream",
          "text": [
            "constructor\n"
          ],
          "name": "stdout"
        }
      ]
    },
    {
      "cell_type": "code",
      "metadata": {
        "id": "Rzh0dJ54UPYn",
        "colab_type": "code",
        "colab": {
          "base_uri": "https://localhost:8080/",
          "height": 36
        },
        "outputId": "e7c9562a-38e4-4de0-97e7-8286bbea61e7"
      },
      "source": [
        "print(emp2.firstname)"
      ],
      "execution_count": null,
      "outputs": [
        {
          "output_type": "stream",
          "text": [
            "Éva\n"
          ],
          "name": "stdout"
        }
      ]
    },
    {
      "cell_type": "code",
      "metadata": {
        "id": "p8HQc-ohUSHJ",
        "colab_type": "code",
        "colab": {}
      },
      "source": [
        "class Employee:\n",
        "  def __init__(self,fname,lname,em):\n",
        "    self.firstname = fname\n",
        "    self.lastname = lname\n",
        "    self.email = em"
      ],
      "execution_count": null,
      "outputs": []
    },
    {
      "cell_type": "code",
      "metadata": {
        "id": "E7u8gkwWUuUr",
        "colab_type": "code",
        "colab": {
          "base_uri": "https://localhost:8080/",
          "height": 36
        },
        "outputId": "450a4ce1-ed6a-40c2-bc4c-a93cbebfc612"
      },
      "source": [
        "emp3 = Employee(\"Csilla\",\"Kiss\",\"kiss@csilla@hotmail.com\")\n",
        "print(emp3.firstname)"
      ],
      "execution_count": null,
      "outputs": [
        {
          "output_type": "stream",
          "text": [
            "Csilla\n"
          ],
          "name": "stdout"
        }
      ]
    },
    {
      "cell_type": "code",
      "metadata": {
        "id": "V7NfMV7aU-j3",
        "colab_type": "code",
        "colab": {}
      },
      "source": [
        "class Employee:\n",
        "  def __init__(self,fname,lname,em):\n",
        "    self.firstname = fname\n",
        "    self.lastname = lname\n",
        "    self.email = em\n",
        "    self.work_hours = 0\n",
        "\n",
        "  def doWork(self):\n",
        "    print(\"working...\")\n",
        "    self.work_hours = self.work_hours + 1"
      ],
      "execution_count": null,
      "outputs": []
    },
    {
      "cell_type": "code",
      "metadata": {
        "id": "RuokBdAAVQsp",
        "colab_type": "code",
        "colab": {
          "base_uri": "https://localhost:8080/",
          "height": 86
        },
        "outputId": "0ad30d8f-cdc9-4568-e737-d9ff7722083f"
      },
      "source": [
        "emp3 = Employee(\"Csilla\",\"Kiss\",\"kiss@csilla@hotmail.com\")\n",
        "print(emp3.work_hours)\n",
        "emp3.doWork()\n",
        "emp3.doWork()\n",
        "print(emp3.work_hours)"
      ],
      "execution_count": null,
      "outputs": [
        {
          "output_type": "stream",
          "text": [
            "0\n",
            "working...\n",
            "working...\n",
            "2\n"
          ],
          "name": "stdout"
        }
      ]
    },
    {
      "cell_type": "code",
      "metadata": {
        "id": "JLYs9PwjWAvr",
        "colab_type": "code",
        "colab": {
          "base_uri": "https://localhost:8080/",
          "height": 68
        },
        "outputId": "0cd024f3-2176-4fef-ce04-c91683a45db5"
      },
      "source": [
        "class Director(Employee):\n",
        "  pass\n",
        "boss = Director(\"Anna\",\"Whithe\",\"w.a@gmail.com\")\n",
        "print(boss.lastname)\n",
        "boss.doWork()\n",
        "print(boss.work_hours)"
      ],
      "execution_count": null,
      "outputs": [
        {
          "output_type": "stream",
          "text": [
            "Whithe\n",
            "working...\n",
            "1\n"
          ],
          "name": "stdout"
        }
      ]
    },
    {
      "cell_type": "code",
      "metadata": {
        "id": "lAT6AnqdWWfX",
        "colab_type": "code",
        "colab": {}
      },
      "source": [
        ""
      ],
      "execution_count": null,
      "outputs": []
    },
    {
      "cell_type": "code",
      "metadata": {
        "id": "cmv5xrbKWvoo",
        "colab_type": "code",
        "colab": {}
      },
      "source": [
        "class Director(Employee):\n",
        "  def organizeMeeting(self,n):\n",
        "    print(\"meeting\")\n",
        "    self.work_hours = self.work_hours + n + 1 # The meeting counts as many hours as many employee take part on it + 1 which is director's hour"
      ],
      "execution_count": null,
      "outputs": []
    },
    {
      "cell_type": "code",
      "metadata": {
        "id": "RMUHEdyWXB7U",
        "colab_type": "code",
        "colab": {
          "base_uri": "https://localhost:8080/",
          "height": 54
        },
        "outputId": "e3b0b33b-5e79-479f-8dfb-59a74ce9a094"
      },
      "source": [
        "boss = Director(\"Anna\",\"Whithe\",\"w.a@gmail.com\")\n",
        "boss.organizeMeeting(5)\n",
        "print(boss.work_hours)"
      ],
      "execution_count": null,
      "outputs": [
        {
          "output_type": "stream",
          "text": [
            "meeting\n",
            "6\n"
          ],
          "name": "stdout"
        }
      ]
    },
    {
      "cell_type": "markdown",
      "metadata": {
        "id": "AdFREF9WY2CT",
        "colab_type": "text"
      },
      "source": [
        "# Read File"
      ]
    },
    {
      "cell_type": "code",
      "metadata": {
        "id": "4emhlxbMY9rM",
        "colab_type": "code",
        "colab": {}
      },
      "source": [
        "import numpy as np"
      ],
      "execution_count": null,
      "outputs": []
    },
    {
      "cell_type": "code",
      "metadata": {
        "id": "XlhE8XD2Y4BB",
        "colab_type": "code",
        "colab": {
          "base_uri": "https://localhost:8080/",
          "height": 246
        },
        "outputId": "a12a5598-c9ee-4f1e-f709-6ad3ab6600c5"
      },
      "source": [
        "dataset = []\n",
        "x = []\n",
        "y = []\n",
        "with open(\"dataset.txt\",\"r\") as ins:\n",
        "  lines = ins.readlines()\n",
        "  for line in lines:\n",
        "    x.append(int(line.split(\",\")[0]))\n",
        "    y.append(int(line.split(\",\")[1].strip()))"
      ],
      "execution_count": null,
      "outputs": [
        {
          "output_type": "error",
          "ename": "FileNotFoundError",
          "evalue": "ignored",
          "traceback": [
            "\u001b[0;31m---------------------------------------------------------------------------\u001b[0m",
            "\u001b[0;31mFileNotFoundError\u001b[0m                         Traceback (most recent call last)",
            "\u001b[0;32m<ipython-input-6-bdef0902a3c6>\u001b[0m in \u001b[0;36m<module>\u001b[0;34m()\u001b[0m\n\u001b[1;32m      2\u001b[0m \u001b[0mx\u001b[0m \u001b[0;34m=\u001b[0m \u001b[0;34m[\u001b[0m\u001b[0;34m]\u001b[0m\u001b[0;34m\u001b[0m\u001b[0;34m\u001b[0m\u001b[0m\n\u001b[1;32m      3\u001b[0m \u001b[0my\u001b[0m \u001b[0;34m=\u001b[0m \u001b[0;34m[\u001b[0m\u001b[0;34m]\u001b[0m\u001b[0;34m\u001b[0m\u001b[0;34m\u001b[0m\u001b[0m\n\u001b[0;32m----> 4\u001b[0;31m \u001b[0;32mwith\u001b[0m \u001b[0mopen\u001b[0m\u001b[0;34m(\u001b[0m\u001b[0;34m\"dataset.txt\"\u001b[0m\u001b[0;34m,\u001b[0m\u001b[0;34m\"r\"\u001b[0m\u001b[0;34m)\u001b[0m \u001b[0;32mas\u001b[0m \u001b[0mins\u001b[0m\u001b[0;34m:\u001b[0m\u001b[0;34m\u001b[0m\u001b[0;34m\u001b[0m\u001b[0m\n\u001b[0m\u001b[1;32m      5\u001b[0m   \u001b[0mlines\u001b[0m \u001b[0;34m=\u001b[0m \u001b[0mins\u001b[0m\u001b[0;34m.\u001b[0m\u001b[0mreadlines\u001b[0m\u001b[0;34m(\u001b[0m\u001b[0;34m)\u001b[0m\u001b[0;34m\u001b[0m\u001b[0;34m\u001b[0m\u001b[0m\n\u001b[1;32m      6\u001b[0m   \u001b[0;32mfor\u001b[0m \u001b[0mline\u001b[0m \u001b[0;32min\u001b[0m \u001b[0mlines\u001b[0m\u001b[0;34m:\u001b[0m\u001b[0;34m\u001b[0m\u001b[0;34m\u001b[0m\u001b[0m\n",
            "\u001b[0;31mFileNotFoundError\u001b[0m: [Errno 2] No such file or directory: 'dataset.txt'"
          ]
        }
      ]
    },
    {
      "cell_type": "code",
      "metadata": {
        "id": "K553KJh_jKrf",
        "colab_type": "code",
        "colab": {}
      },
      "source": [
        "import matplotlib.pyplot as plt"
      ],
      "execution_count": null,
      "outputs": []
    },
    {
      "cell_type": "code",
      "metadata": {
        "id": "gNGLYo9Rj2V_",
        "colab_type": "code",
        "colab": {
          "base_uri": "https://localhost:8080/",
          "height": 284
        },
        "outputId": "697e0813-936c-4c5c-82c4-04556e3eca80"
      },
      "source": [
        "plt.plot(x,y,'o')"
      ],
      "execution_count": null,
      "outputs": [
        {
          "output_type": "execute_result",
          "data": {
            "text/plain": [
              "[<matplotlib.lines.Line2D at 0x7f74034e47b8>]"
            ]
          },
          "metadata": {
            "tags": []
          },
          "execution_count": 21
        },
        {
          "output_type": "display_data",
          "data": {
            "image/png": "[encoded data removed]",
            "text/plain": [
              "<Figure size 432x288 with 1 Axes>"
            ]
          },
          "metadata": {
            "tags": [],
            "needs_background": "light"
          }
        }
      ]
    },
    {
      "cell_type": "code",
      "metadata": {
        "id": "FmQY9uaKxIwC",
        "colab_type": "code",
        "colab": {}
      },
      "source": [
        "def Dm(x,y,m,c):\n",
        "  in_sum = 0\n",
        "  for i in range(len(x)):\n",
        "    in_sum = in_sum + 2*(y[i]-(m*x[i]+c))*(-x[i])\n",
        "  return 1/len(x) * in_sum"
      ],
      "execution_count": null,
      "outputs": []
    },
    {
      "cell_type": "code",
      "metadata": {
        "id": "1dwpBGLpLer_",
        "colab_type": "code",
        "colab": {}
      },
      "source": [
        "def Dc(x,y,m,c):\n",
        "  in_sum = 0\n",
        "  for i in range(len(x)):  \n",
        "    in_sum = in_sum + -2*(y[i]-(m*x[i]+c))\n",
        "  return 1/len(x) * in_sum"
      ],
      "execution_count": null,
      "outputs": []
    },
    {
      "cell_type": "code",
      "metadata": {
        "id": "79lWe9ITMryt",
        "colab_type": "code",
        "colab": {}
      },
      "source": [
        "def L(x,y,m,c):\n",
        "  in_sum = 0\n",
        "  for i in range(len(x)):\n",
        "    #print((m*x[i]+c))\n",
        "    in_sum = in_sum + (y[i]-(m*x[i]+c)) ** 2\n",
        "  return 1/len(x) * in_sum"
      ],
      "execution_count": null,
      "outputs": []
    },
    {
      "cell_type": "code",
      "metadata": {
        "id": "68bI-q1tj6DE",
        "colab_type": "code",
        "colab": {}
      },
      "source": [
        "iter_num = 100\n",
        "lr = 0.0001\n",
        "\n",
        "# y = m*x + c\n",
        "m = 0\n",
        "c = 0\n",
        "\n",
        "for i in range(iter_num):\n",
        "  m = m - lr*Dm(x,y,m,c)\n",
        "  c = c - lr*Dc(x,y,m,c)"
      ],
      "execution_count": null,
      "outputs": []
    },
    {
      "cell_type": "code",
      "metadata": {
        "id": "lA5Gt8OcNV1l",
        "colab_type": "code",
        "colab": {
          "base_uri": "https://localhost:8080/",
          "height": 34
        },
        "outputId": "1f8d1512-a00d-4d92-9b6e-908bc78046a7"
      },
      "source": [
        "print(m,c)"
      ],
      "execution_count": null,
      "outputs": [
        {
          "output_type": "stream",
          "text": [
            "0.8336779397679573 0.07986871450870649\n"
          ],
          "name": "stdout"
        }
      ]
    },
    {
      "cell_type": "code",
      "metadata": {
        "id": "NUEbqKUOOyDF",
        "colab_type": "code",
        "colab": {}
      },
      "source": [
        "import numpy as np\n",
        "x = np.asarray(x)\n",
        "y = np.asarray(y)"
      ],
      "execution_count": null,
      "outputs": []
    },
    {
      "cell_type": "code",
      "metadata": {
        "id": "iMHJd7FrOejV",
        "colab_type": "code",
        "colab": {
          "base_uri": "https://localhost:8080/",
          "height": 174
        },
        "outputId": "808b383b-b71e-4739-c2a8-01558f189899"
      },
      "source": [
        "yy = m*x + np.ones(len(x))*c "
      ],
      "execution_count": null,
      "outputs": [
        {
          "output_type": "error",
          "ename": "NameError",
          "evalue": "ignored",
          "traceback": [
            "\u001b[0;31m---------------------------------------------------------------------------\u001b[0m",
            "\u001b[0;31mNameError\u001b[0m                                 Traceback (most recent call last)",
            "\u001b[0;32m<ipython-input-25-22ef7b74d264>\u001b[0m in \u001b[0;36m<module>\u001b[0;34m()\u001b[0m\n\u001b[0;32m----> 1\u001b[0;31m \u001b[0myy\u001b[0m \u001b[0;34m=\u001b[0m \u001b[0mm\u001b[0m\u001b[0;34m*\u001b[0m\u001b[0mx\u001b[0m \u001b[0;34m+\u001b[0m \u001b[0mnp\u001b[0m\u001b[0;34m.\u001b[0m\u001b[0mones\u001b[0m\u001b[0;34m(\u001b[0m\u001b[0mlen\u001b[0m\u001b[0;34m(\u001b[0m\u001b[0mx\u001b[0m\u001b[0;34m)\u001b[0m\u001b[0;34m)\u001b[0m\u001b[0;34m*\u001b[0m\u001b[0mc\u001b[0m\u001b[0;34m\u001b[0m\u001b[0;34m\u001b[0m\u001b[0m\n\u001b[0m",
            "\u001b[0;31mNameError\u001b[0m: name 'm' is not defined"
          ]
        }
      ]
    },
    {
      "cell_type": "code",
      "metadata": {
        "id": "L9hjqKM9O9Ub",
        "colab_type": "code",
        "colab": {
          "base_uri": "https://localhost:8080/",
          "height": 282
        },
        "outputId": "804c54a8-44f1-4c9b-af22-43e97300c049"
      },
      "source": [
        "import matplotlib.pyplot as plt\n",
        "plt.plot(x,y,'ro')\n",
        "plt.plot(x,yy)"
      ],
      "execution_count": null,
      "outputs": [
        {
          "output_type": "execute_result",
          "data": {
            "text/plain": [
              "[<matplotlib.lines.Line2D at 0x7f8e59e77d68>]"
            ]
          },
          "metadata": {
            "tags": []
          },
          "execution_count": 85
        },
        {
          "output_type": "display_data",
          "data": {
            "image/png": "[encoded data removed]",
            "text/plain": [
              "<Figure size 432x288 with 1 Axes>"
            ]
          },
          "metadata": {
            "tags": [],
            "needs_background": "light"
          }
        }
      ]
    }
  ]
}