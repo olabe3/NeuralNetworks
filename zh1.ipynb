{
  "nbformat": 4,
  "nbformat_minor": 0,
  "metadata": {
    "colab": {
      "name": "Untitled4.ipynb",
      "provenance": [],
      "authorship_tag": "ABX9TyPIGxYmLZTdNongtfkaQYK1",
      "include_colab_link": true
    },
    "kernelspec": {
      "name": "python3",
      "display_name": "Python 3"
    }
  },
  "cells": [
    {
      "cell_type": "markdown",
      "metadata": {
        "id": "view-in-github",
        "colab_type": "text"
      },
      "source": [
        "<a href=\"https://colab.research.google.com/github/olabe3/NeuralNetworks/blob/master/zh1.ipynb\" target=\"_parent\"><img src=\"https://colab.research.google.com/assets/colab-badge.svg\" alt=\"Open In Colab\"/></a>"
      ]
    },
    {
      "cell_type": "code",
      "metadata": {
        "id": "i2eg6biMOkKl",
        "colab_type": "code",
        "colab": {}
      },
      "source": [
        "# Initialization code for the 1st task - DON'T CHANGE\n",
        "\n",
        "import os\n",
        "\n",
        "import random\n",
        "\n",
        "random.seed(2020)\n",
        "\n",
        " \n",
        "\n",
        "if not os.path.exists(\"workdir\"):\n",
        "\n",
        "  os.mkdir(\"workdir\")\n",
        "\n",
        "random_words = [\"duck\",\"cat\",\"hedgehog\",\"dog\",\"elephant\"]\n",
        "\n",
        "for idx in range(0,100):\n",
        "\n",
        "  with open(os.path.join(\"workdir\", str(idx) + \".txt\"),\"w\") as f:\n",
        "\n",
        "            random_word = random_words[random.randint(0,4)]\n",
        "\n",
        "            random_letter = random_word[random.randint(0,len(random_word)-1)]\n",
        "\n",
        "            f.write(str(idx) + \",\" + random_word + \",\" + random_letter)"
      ],
      "execution_count": 1,
      "outputs": []
    },
    {
      "cell_type": "code",
      "metadata": {
        "id": "jRmWBuocO8jB",
        "colab_type": "code",
        "colab": {
          "base_uri": "https://localhost:8080/",
          "height": 87
        },
        "outputId": "d8b99f0d-1e57-49c7-c1c0-84980ab8647a"
      },
      "source": [
        "x = []\n",
        "y = []\n",
        "z = []\n",
        "for i in range(0,100):\n",
        "  with open(os.path.join(\"workdir\", str(i) + \".txt\"),\"r\") as ins:\n",
        "    lines = ins.readlines()\n",
        "    for line in lines:\n",
        "      x.append(int(line.split(\",\")[0]))\n",
        "      y.append(str(line.split(\",\")[1]))\n",
        "      z.append(str(line.split(\",\")[2].strip()))\n",
        "\n",
        "print(x)\n",
        "print(y)\n",
        "print(z)"
      ],
      "execution_count": 9,
      "outputs": [
        {
          "output_type": "stream",
          "text": [
            "[0, 1, 2, 3, 4, 5, 6, 7, 8, 9, 10, 11, 12, 13, 14, 15, 16, 17, 18, 19, 20, 21, 22, 23, 24, 25, 26, 27, 28, 29, 30, 31, 32, 33, 34, 35, 36, 37, 38, 39, 40, 41, 42, 43, 44, 45, 46, 47, 48, 49, 50, 51, 52, 53, 54, 55, 56, 57, 58, 59, 60, 61, 62, 63, 64, 65, 66, 67, 68, 69, 70, 71, 72, 73, 74, 75, 76, 77, 78, 79, 80, 81, 82, 83, 84, 85, 86, 87, 88, 89, 90, 91, 92, 93, 94, 95, 96, 97, 98, 99]\n",
            "['elephant', 'dog', 'dog', 'dog', 'cat', 'duck', 'cat', 'dog', 'cat', 'cat', 'dog', 'cat', 'elephant', 'duck', 'duck', 'cat', 'elephant', 'elephant', 'cat', 'elephant', 'dog', 'hedgehog', 'cat', 'duck', 'cat', 'hedgehog', 'cat', 'dog', 'elephant', 'cat', 'dog', 'duck', 'cat', 'cat', 'elephant', 'elephant', 'cat', 'hedgehog', 'elephant', 'duck', 'cat', 'hedgehog', 'duck', 'hedgehog', 'duck', 'elephant', 'dog', 'hedgehog', 'hedgehog', 'dog', 'dog', 'hedgehog', 'elephant', 'dog', 'duck', 'elephant', 'elephant', 'hedgehog', 'elephant', 'dog', 'duck', 'cat', 'dog', 'duck', 'duck', 'elephant', 'hedgehog', 'dog', 'duck', 'hedgehog', 'elephant', 'dog', 'elephant', 'dog', 'dog', 'elephant', 'dog', 'cat', 'cat', 'duck', 'dog', 'elephant', 'hedgehog', 'elephant', 'elephant', 'hedgehog', 'cat', 'dog', 'hedgehog', 'hedgehog', 'dog', 'dog', 'elephant', 'hedgehog', 'dog', 'cat', 'hedgehog', 'dog', 'hedgehog', 'dog']\n",
            "['e', 'o', 'o', 'g', 't', 'k', 'c', 'g', 't', 'a', 'd', 'a', 't', 'k', 'c', 'c', 'l', 'h', 'c', 'h', 'd', 'g', 't', 'u', 't', 'e', 't', 'o', 'h', 't', 'o', 'd', 't', 't', 'e', 'l', 'c', 'g', 't', 'k', 'a', 'g', 'u', 'h', 'k', 'n', 'g', 'e', 'e', 'g', 'g', 'g', 'e', 'g', 'c', 'a', 't', 'e', 'e', 'd', 'k', 't', 'd', 'u', 'c', 't', 'd', 'd', 'k', 'e', 'p', 'g', 'h', 'd', 'g', 'n', 'g', 't', 'a', 'k', 'o', 'n', 'e', 'n', 't', 'h', 'c', 'o', 'o', 'h', 'o', 'o', 'p', 'g', 'd', 't', 'o', 'g', 'e', 'o']\n"
          ],
          "name": "stdout"
        }
      ]
    },
    {
      "cell_type": "code",
      "metadata": {
        "id": "GcRYPBTAQZCp",
        "colab_type": "code",
        "colab": {
          "base_uri": "https://localhost:8080/",
          "height": 50
        },
        "outputId": "5edf91a6-f4d9-4460-b266-5ed484709ad3"
      },
      "source": [
        "sum = 0\n",
        "for i in range(len(x)):\n",
        "  if x[i] % 3 == 0:\n",
        "      sum += i\n",
        "avg = sum / len(x)\n",
        "\n",
        "print(sum)\n",
        "print(avg)"
      ],
      "execution_count": 14,
      "outputs": [
        {
          "output_type": "stream",
          "text": [
            "1683\n",
            "16.83\n"
          ],
          "name": "stdout"
        }
      ]
    },
    {
      "cell_type": "code",
      "metadata": {
        "id": "dC8r3E0oThYC",
        "colab_type": "code",
        "colab": {
          "base_uri": "https://localhost:8080/",
          "height": 34
        },
        "outputId": "ce01411e-bc5a-41f3-f7b9-92a3a4e5dfb3"
      },
      "source": [
        "sum = 0\n",
        "\n",
        "for idx in range(len(y)):\n",
        "  word = y[idx]\n",
        "  letter = z[idx]\n",
        "\n",
        "  for i in range(len(word)):\n",
        "   if letter == word[i]:\n",
        "     sum += i\n",
        "\n",
        "print(sum)"
      ],
      "execution_count": 30,
      "outputs": [
        {
          "output_type": "stream",
          "text": [
            "295\n"
          ],
          "name": "stdout"
        }
      ]
    },
    {
      "cell_type": "code",
      "metadata": {
        "id": "oswkUx50V4T2",
        "colab_type": "code",
        "colab": {
          "base_uri": "https://localhost:8080/",
          "height": 34
        },
        "outputId": "e8168916-9619-4389-d742-4c70b7bf3c3d"
      },
      "source": [
        "text_file = open(\"result.txt\",\"a\")\n",
        "text_file.write(\"value:\" + str(avg) + \"sum: \" + str(sum))"
      ],
      "execution_count": 39,
      "outputs": [
        {
          "output_type": "execute_result",
          "data": {
            "text/plain": [
              "19"
            ]
          },
          "metadata": {
            "tags": []
          },
          "execution_count": 39
        }
      ]
    }
  ]
}