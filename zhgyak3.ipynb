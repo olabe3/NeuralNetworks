{
  "nbformat": 4,
  "nbformat_minor": 0,
  "metadata": {
    "colab": {
      "name": "Untitled3.ipynb",
      "provenance": [],
      "authorship_tag": "ABX9TyO7JwqYHmlKnIjgnrJTAh/8",
      "include_colab_link": true
    },
    "kernelspec": {
      "name": "python3",
      "display_name": "Python 3"
    }
  },
  "cells": [
    {
      "cell_type": "markdown",
      "metadata": {
        "id": "view-in-github",
        "colab_type": "text"
      },
      "source": [
        "<a href=\"https://colab.research.google.com/github/olabe3/NeuralNetworks/blob/master/zhgyak3.ipynb\" target=\"_parent\"><img src=\"https://colab.research.google.com/assets/colab-badge.svg\" alt=\"Open In Colab\"/></a>"
      ]
    },
    {
      "cell_type": "code",
      "metadata": {
        "id": "g2V7VXsfBZAn",
        "colab_type": "code",
        "colab": {
          "base_uri": "https://localhost:8080/",
          "height": 33
        },
        "outputId": "967f2e90-93f3-4478-d06a-ef0dbbf21713"
      },
      "source": [
        "string = 'agg 45 fa 333 agg 2 szavak 3 d 34'\n",
        "print(string)"
      ],
      "execution_count": 14,
      "outputs": [
        {
          "output_type": "stream",
          "text": [
            "agg 45 fa 333 agg 2 szavak 3 d 34\n"
          ],
          "name": "stdout"
        }
      ]
    },
    {
      "cell_type": "code",
      "metadata": {
        "id": "z2yqRb6NBw9q",
        "colab_type": "code",
        "colab": {}
      },
      "source": [
        "text_file = open(\"out.txt\",\"w\")\n",
        "text_file.write(string)\n",
        "text_file.close()"
      ],
      "execution_count": 15,
      "outputs": []
    },
    {
      "cell_type": "code",
      "metadata": {
        "id": "-tDyZv7xMatg",
        "colab_type": "code",
        "colab": {
          "base_uri": "https://localhost:8080/",
          "height": 33
        },
        "outputId": "237fb059-3ed5-4937-e0a2-25dce40ba73a"
      },
      "source": [
        "x = []\n",
        "with open(\"out.txt\",\"r\") as ins:\n",
        "  lines = ins.readlines()\n",
        "  for line in lines:\n",
        "    x.append(line.split(\" \"))\n",
        "\n",
        "print(x)"
      ],
      "execution_count": 29,
      "outputs": [
        {
          "output_type": "stream",
          "text": [
            "[['agg', '45', 'fa', '333', 'agg', '2', 'szavak', '3', 'd', '34']]\n"
          ],
          "name": "stdout"
        }
      ]
    }
  ]
}